{
 "cells": [
  {
   "cell_type": "code",
   "execution_count": null,
   "metadata": {
    "execution": {
     "iopub.execute_input": "2024-11-08T06:35:56.661657Z",
     "iopub.status.busy": "2024-11-08T06:35:56.661272Z",
     "iopub.status.idle": "2024-11-08T06:36:36.888906Z",
     "shell.execute_reply": "2024-11-08T06:36:36.887681Z",
     "shell.execute_reply.started": "2024-11-08T06:35:56.661619Z"
    },
    "trusted": true
   },
   "outputs": [],
   "source": [
    "!pip install bitsandbytes\n",
    "!pip install datasets\n",
    "!pip install peft"
   ]
  },
  {
   "cell_type": "code",
   "execution_count": null,
   "metadata": {
    "execution": {
     "iopub.execute_input": "2024-11-08T06:36:36.891706Z",
     "iopub.status.busy": "2024-11-08T06:36:36.891288Z",
     "iopub.status.idle": "2024-11-08T06:36:37.455329Z",
     "shell.execute_reply": "2024-11-08T06:36:37.454417Z",
     "shell.execute_reply.started": "2024-11-08T06:36:36.891662Z"
    },
    "trusted": true
   },
   "outputs": [],
   "source": [
    "from huggingface_hub import login\n",
    "login(token=\"HF TOKEN\")"
   ]
  },
  {
   "cell_type": "code",
   "execution_count": null,
   "metadata": {
    "_cell_guid": "92b8e8fb-bbd1-4081-a758-9535e7965d40",
    "_uuid": "fcdf841e-17e3-43f4-8367-8c5344d23143",
    "collapsed": false,
    "execution": {
     "iopub.execute_input": "2024-11-08T06:36:37.456719Z",
     "iopub.status.busy": "2024-11-08T06:36:37.456430Z",
     "iopub.status.idle": "2024-11-08T06:38:08.958780Z",
     "shell.execute_reply": "2024-11-08T06:38:08.958000Z",
     "shell.execute_reply.started": "2024-11-08T06:36:37.456686Z"
    },
    "jupyter": {
     "outputs_hidden": false
    },
    "trusted": true
   },
   "outputs": [],
   "source": [
    "import pandas as pd\n",
    "import json\n",
    "import os\n",
    "from pprint import pprint\n",
    "import bitsandbytes as bnb\n",
    "import torch\n",
    "import torch.nn as nn\n",
    "import transformers\n",
    "from datasets import load_dataset, Dataset\n",
    "from peft import LoraConfig, PeftConfig, PeftModel, get_peft_model, prepare_model_for_kbit_training\n",
    "from transformers import AutoConfig, AutoModelForCausalLM, AutoTokenizer, BitsAndBytesConfig\n",
    "\n",
    "os.environ[\"CUDA_VISIBLE_DEVICES\"] = \"0,1\"\n",
    "\n",
    "bnb_config = BitsAndBytesConfig(\n",
    "    load_in_4bit=True,\n",
    "    bnb_4bit_use_double_quant=True,\n",
    "    bnb_4bit_quant_type=\"nf4\",\n",
    "    bnb_4bit_compute_dtype=torch.bfloat16\n",
    ")\n",
    "\n",
    "PEFT_MODEL = \"/kaggle/input/llm-project-fine-tuned-4000/pytorch/default/1/trained-model\"\n",
    "\n",
    "config = PeftConfig.from_pretrained(PEFT_MODEL)\n",
    "\n",
    "model = AutoModelForCausalLM.from_pretrained(\n",
    "    config.base_model_name_or_path,\n",
    "    return_dict=True,\n",
    "    quantization_config=bnb_config,\n",
    "    device_map=\"auto\",\n",
    "    trust_remote_code=True\n",
    ")\n",
    "\n",
    "tokenizer=AutoTokenizer.from_pretrained(config.base_model_name_or_path)\n",
    "tokenizer.pad_token = tokenizer.eos_token\n",
    "\n",
    "model = PeftModel.from_pretrained(model, PEFT_MODEL)\n",
    "\n",
    "generation_config = model.generation_config\n",
    "generation_config.max_new_tokens = 150\n",
    "generation_config.temperature = 0.5\n",
    "generation_config.top_p = 0.8\n",
    "generation_config.num_return_sequences = 1\n",
    "generation_config.pad_token_id = tokenizer.eos_token_id\n",
    "generation_config.eos_token_id = tokenizer.eos_token_id\n",
    "\n",
    "import numpy as np\n"
   ]
  },
  {
   "cell_type": "code",
   "execution_count": null,
   "metadata": {
    "execution": {
     "iopub.execute_input": "2024-11-08T06:38:08.961114Z",
     "iopub.status.busy": "2024-11-08T06:38:08.960629Z",
     "iopub.status.idle": "2024-11-08T06:38:09.089492Z",
     "shell.execute_reply": "2024-11-08T06:38:09.088675Z",
     "shell.execute_reply.started": "2024-11-08T06:38:08.961077Z"
    },
    "trusted": true
   },
   "outputs": [],
   "source": [
    "import pandas as pd\n",
    "\n",
    "df = pd.read_csv(\"/kaggle/input/llm-project-amod-english/llm_project_Amod_English.csv\")\n",
    "df=df.head(3)"
   ]
  },
  {
   "cell_type": "code",
   "execution_count": null,
   "metadata": {
    "execution": {
     "iopub.execute_input": "2024-11-08T06:38:09.090850Z",
     "iopub.status.busy": "2024-11-08T06:38:09.090568Z",
     "iopub.status.idle": "2024-11-08T06:39:14.546780Z",
     "shell.execute_reply": "2024-11-08T06:39:14.545478Z",
     "shell.execute_reply.started": "2024-11-08T06:38:09.090818Z"
    },
    "trusted": true
   },
   "outputs": [],
   "source": [
    "from transformers import pipeline\n",
    "my_answers=[]\n",
    "\n",
    "def post_process(predicted_text):\n",
    "    index = predicted_text.find(\"[/INST]\")\n",
    "    if(index==-1):\n",
    "        return predicted_text\n",
    "    \n",
    "    predicted_text=predicted_text[index:].strip()\n",
    "    predicted_text=predicted_text[len(\"[/INST]\"):].strip()\n",
    "    return predicted_text\n",
    "\n",
    "for index, row in df.iterrows():\n",
    "    print(\"Currently on sample\",index)\n",
    "    ground_truth_input=row['Context']\n",
    "    ground_truth_output=row['Response']\n",
    "\n",
    "    ground_truth=ground_truth_output\n",
    "\n",
    "    prompt=f\"<s> [INST] <<SYS>> You are a helpful assistant, who always provides empathetic responses to the user's query and helps them solve their mental problems. <</SYS>> {ground_truth_input} [/INST]\".strip()\n",
    "\n",
    "    device = \"cuda\"\n",
    "    encoding = tokenizer(prompt, return_tensors=\"pt\").to(device)\n",
    "    with torch.inference_mode():\n",
    "        outputs = model.generate(\n",
    "            input_ids = encoding.input_ids,\n",
    "            attention_mask = encoding.attention_mask,\n",
    "            generation_config = generation_config\n",
    "        )\n",
    "\n",
    "    predicted_text=(tokenizer.decode(outputs[0], skip_special_tokens=True))\n",
    "    predicted_text=post_process(predicted_text)\n",
    "#     print(ground_truth)\n",
    "#     print()\n",
    "#     print(predicted_text)\n",
    "#     print(\"============================================\")\n",
    "    my_answers.append({\"ground_truth\":ground_truth, \"prediction\":predicted_text})\n",
    "\n"
   ]
  },
  {
   "cell_type": "code",
   "execution_count": null,
   "metadata": {
    "execution": {
     "iopub.execute_input": "2024-11-08T06:39:14.548923Z",
     "iopub.status.busy": "2024-11-08T06:39:14.548075Z",
     "iopub.status.idle": "2024-11-08T06:39:14.559390Z",
     "shell.execute_reply": "2024-11-08T06:39:14.558619Z",
     "shell.execute_reply.started": "2024-11-08T06:39:14.548875Z"
    },
    "trusted": true
   },
   "outputs": [],
   "source": [
    "# print(my_answers[0]['ground_truth'])\n",
    "# print('=======================================')\n",
    "# print(my_answers[0]['prediction'])\n",
    "\n",
    "df = pd.DataFrame(my_answers)\n",
    "\n",
    "# Save the DataFrame to a CSV file\n",
    "df.to_csv(\"LLAMA2_7b_5epoch_finetuned_predictions.csv\", index=False)"
   ]
  }
 ],
 "metadata": {
  "kaggle": {
   "accelerator": "nvidiaTeslaT4",
   "dataSources": [
    {
     "datasetId": 5866519,
     "sourceId": 9613704,
     "sourceType": "datasetVersion"
    },
    {
     "isSourceIdPinned": true,
     "modelId": 158508,
     "modelInstanceId": 135778,
     "sourceId": 159712,
     "sourceType": "modelInstanceVersion"
    }
   ],
   "dockerImageVersionId": 30787,
   "isGpuEnabled": true,
   "isInternetEnabled": true,
   "language": "python",
   "sourceType": "notebook"
  },
  "kernelspec": {
   "display_name": "Python 3",
   "language": "python",
   "name": "python3"
  },
  "language_info": {
   "codemirror_mode": {
    "name": "ipython",
    "version": 3
   },
   "file_extension": ".py",
   "mimetype": "text/x-python",
   "name": "python",
   "nbconvert_exporter": "python",
   "pygments_lexer": "ipython3",
   "version": "3.10.14"
  }
 },
 "nbformat": 4,
 "nbformat_minor": 4
}
